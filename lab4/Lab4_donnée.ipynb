{
  "cells": [
    {
      "cell_type": "markdown",
      "id": "43819f57-439c-4893-988e-2e89b187f258",
      "metadata": {
        "tags": [],
        "id": "43819f57-439c-4893-988e-2e89b187f258"
      },
      "source": [
        "# LAB 4: Quantization\n"
      ]
    },
    {
      "cell_type": "code",
      "execution_count": 1,
      "id": "753cb856-a2b7-47e9-8357-e56621808bfa",
      "metadata": {
        "tags": [],
        "id": "753cb856-a2b7-47e9-8357-e56621808bfa"
      },
      "outputs": [],
      "source": [
        "import torch\n",
        "import torchvision\n",
        "import torchvision.transforms as transforms\n",
        "import torch.nn as nn\n",
        "import torch.nn.functional as F\n",
        "import torch.optim as optim\n",
        "import matplotlib.pyplot as plt\n",
        "import numpy as np"
      ]
    },
    {
      "cell_type": "code",
      "execution_count": 2,
      "id": "9b2b5700-8460-41de-b1cc-93b16329f553",
      "metadata": {
        "tags": [],
        "id": "9b2b5700-8460-41de-b1cc-93b16329f553"
      },
      "outputs": [],
      "source": [
        "device = torch.device('cpu')"
      ]
    },
    {
      "cell_type": "markdown",
      "id": "eff03bd6-8c2d-4069-95f7-9c3a8fd7e65e",
      "metadata": {
        "jp-MarkdownHeadingCollapsed": true,
        "tags": [],
        "id": "eff03bd6-8c2d-4069-95f7-9c3a8fd7e65e"
      },
      "source": [
        "## Get the dataset"
      ]
    },
    {
      "cell_type": "code",
      "execution_count": 3,
      "id": "47864d32-e98d-44f9-8475-6c8576448fd7",
      "metadata": {
        "tags": [],
        "colab": {
          "base_uri": "https://localhost:8080/"
        },
        "id": "47864d32-e98d-44f9-8475-6c8576448fd7",
        "outputId": "5774978b-62a2-40e2-ab2e-545d7b59348f"
      },
      "outputs": [
        {
          "output_type": "stream",
          "name": "stdout",
          "text": [
            "Downloading https://www.cs.toronto.edu/~kriz/cifar-10-python.tar.gz to ./data/cifar-10-python.tar.gz\n"
          ]
        },
        {
          "output_type": "stream",
          "name": "stderr",
          "text": [
            "100%|██████████| 170498071/170498071 [00:01<00:00, 86145892.19it/s] \n"
          ]
        },
        {
          "output_type": "stream",
          "name": "stdout",
          "text": [
            "Extracting ./data/cifar-10-python.tar.gz to ./data\n",
            "Files already downloaded and verified\n"
          ]
        }
      ],
      "source": [
        "transform = transforms.Compose(\n",
        "    [transforms.ToTensor(),\n",
        "     transforms.Normalize((0.5, 0.5, 0.5), (0.5, 0.5, 0.5))])\n",
        "\n",
        "trainset = torchvision.datasets.CIFAR10(root='./data', train=True,\n",
        "                                        download=True, transform=transform)\n",
        "trainloader = torch.utils.data.DataLoader(trainset, batch_size=4,\n",
        "                                          shuffle=True, num_workers=2)\n",
        "\n",
        "testset = torchvision.datasets.CIFAR10(root='./data', train=False,\n",
        "                                       download=True, transform=transform)\n",
        "testloader = torch.utils.data.DataLoader(testset, batch_size=4,\n",
        "                                         shuffle=False, num_workers=2)"
      ]
    },
    {
      "cell_type": "markdown",
      "id": "a8e07fe3-f152-4aed-93c2-91db99d7300a",
      "metadata": {
        "tags": [],
        "id": "a8e07fe3-f152-4aed-93c2-91db99d7300a"
      },
      "source": [
        "## Model Declaration"
      ]
    },
    {
      "cell_type": "code",
      "execution_count": 4,
      "id": "d306cb41-2a1d-4491-9a6b-0ae0853cb586",
      "metadata": {
        "tags": [],
        "id": "d306cb41-2a1d-4491-9a6b-0ae0853cb586"
      },
      "outputs": [],
      "source": [
        "class Net(nn.Module):\n",
        "    def __init__(self):\n",
        "        super(Net, self).__init__()\n",
        "        self.conv1 = nn.Conv2d(3, 6, 5, bias=False)\n",
        "        self.pool = nn.MaxPool2d(2, 2)\n",
        "        self.conv2 = nn.Conv2d(6, 16, 5, bias=False)\n",
        "        self.fc1 = nn.Linear(16 * 5 * 5, 120, bias=False)\n",
        "        self.fc2 = nn.Linear(120, 84, bias=False)\n",
        "        self.fc3 = nn.Linear(84, 10, bias=False)\n",
        "\n",
        "    def forward(self, x: torch.Tensor) -> torch.Tensor:\n",
        "        x = self.pool(F.relu(self.conv1(x)))\n",
        "        x = self.pool(F.relu(self.conv2(x)))\n",
        "        x = x.view(-1, 16 * 5 * 5)\n",
        "        x = F.relu(self.fc1(x))\n",
        "        x = F.relu(self.fc2(x))\n",
        "        x = self.fc3(x)\n",
        "        return x\n",
        "\n",
        "net = Net().to(device)"
      ]
    },
    {
      "cell_type": "markdown",
      "id": "896cfb2f-42c9-4b75-9576-4256afcbeee4",
      "metadata": {
        "tags": [],
        "id": "896cfb2f-42c9-4b75-9576-4256afcbeee4"
      },
      "source": [
        "## Training"
      ]
    },
    {
      "cell_type": "code",
      "execution_count": 5,
      "id": "89d6dd1d-42b0-4cd2-9282-ecbbb6a46880",
      "metadata": {
        "tags": [],
        "id": "89d6dd1d-42b0-4cd2-9282-ecbbb6a46880"
      },
      "outputs": [],
      "source": [
        "from torch.utils.data import DataLoader\n",
        "\n",
        "def train(model: nn.Module, dataloader: DataLoader):\n",
        "    criterion = nn.CrossEntropyLoss()\n",
        "    optimizer = optim.SGD(model.parameters(), lr=0.001, momentum=0.9)\n",
        "\n",
        "    for epoch in range(2):  # loop over the dataset multiple times\n",
        "\n",
        "        running_loss = 0.0\n",
        "        for i, data in enumerate(dataloader, 0):\n",
        "            # get the inputs; data is a list of [inputs, labels]\n",
        "            inputs, labels = data\n",
        "\n",
        "            inputs = inputs.to(device)\n",
        "            labels = labels.to(device)\n",
        "\n",
        "            # zero the parameter gradients\n",
        "            optimizer.zero_grad()\n",
        "\n",
        "            # forward + backward + optimize\n",
        "            outputs = model(inputs)\n",
        "            loss = criterion(outputs, labels)\n",
        "            loss.backward()\n",
        "            optimizer.step()\n",
        "\n",
        "            # print statistics\n",
        "            running_loss += loss.item()\n",
        "            if i % 2000 == 1999:    # print every 2000 mini-batches\n",
        "                print('[%d, %5d] loss: %.3f' %\n",
        "                    (epoch + 1, i + 1, running_loss / 2000))\n",
        "                running_loss = 0.0\n",
        "\n",
        "    print('Finished Training')\n",
        "\n",
        "def test(model: nn.Module, dataloader: DataLoader, max_samples=None) -> float:\n",
        "    correct = 0\n",
        "    total = 0\n",
        "    n_inferences = 0\n",
        "\n",
        "    with torch.no_grad():\n",
        "        for data in dataloader:\n",
        "            images, labels = data\n",
        "            images = images.to(device)\n",
        "            labels = labels.to(device)\n",
        "\n",
        "\n",
        "            outputs = model(images)\n",
        "            _, predicted = torch.max(outputs.data, 1)\n",
        "            total += labels.size(0)\n",
        "            correct += (predicted == labels).sum().item()\n",
        "\n",
        "            if max_samples:\n",
        "                n_inferences += images.shape[0]\n",
        "                if n_inferences > max_samples:\n",
        "                    break\n",
        "\n",
        "    return 100 * correct / total"
      ]
    },
    {
      "cell_type": "code",
      "execution_count": 6,
      "id": "2921b04b-197c-4a12-8f62-205e98b5766c",
      "metadata": {
        "tags": [],
        "colab": {
          "base_uri": "https://localhost:8080/"
        },
        "id": "2921b04b-197c-4a12-8f62-205e98b5766c",
        "outputId": "435e6d1c-b59c-4a6b-d7ea-2317af860396"
      },
      "outputs": [
        {
          "output_type": "stream",
          "name": "stderr",
          "text": [
            "/usr/lib/python3.10/multiprocessing/popen_fork.py:66: RuntimeWarning: os.fork() was called. os.fork() is incompatible with multithreaded code, and JAX is multithreaded, so this will likely lead to a deadlock.\n",
            "  self.pid = os.fork()\n"
          ]
        },
        {
          "output_type": "stream",
          "name": "stdout",
          "text": [
            "[1,  2000] loss: 2.242\n",
            "[1,  4000] loss: 1.916\n",
            "[1,  6000] loss: 1.725\n",
            "[1,  8000] loss: 1.657\n",
            "[1, 10000] loss: 1.573\n",
            "[1, 12000] loss: 1.520\n",
            "[2,  2000] loss: 1.464\n",
            "[2,  4000] loss: 1.427\n",
            "[2,  6000] loss: 1.418\n",
            "[2,  8000] loss: 1.400\n",
            "[2, 10000] loss: 1.380\n",
            "[2, 12000] loss: 1.356\n",
            "Finished Training\n"
          ]
        }
      ],
      "source": [
        "train(net, trainloader)"
      ]
    },
    {
      "cell_type": "code",
      "execution_count": 7,
      "id": "958a8a88-d88b-4b90-812c-f831f4138721",
      "metadata": {
        "tags": [],
        "id": "958a8a88-d88b-4b90-812c-f831f4138721",
        "colab": {
          "base_uri": "https://localhost:8080/"
        },
        "outputId": "eb978541-8436-4c0c-e43c-b9c20a8635cf"
      },
      "outputs": [
        {
          "output_type": "stream",
          "name": "stdout",
          "text": [
            "Accuracy of the network on the test images: 53.05%\n"
          ]
        }
      ],
      "source": [
        "score = test(net, testloader)\n",
        "print('Accuracy of the network on the test images: {}%'.format(score))"
      ]
    },
    {
      "cell_type": "markdown",
      "id": "98fb1a47-7f6c-42f4-9f8d-94d353a18d62",
      "metadata": {
        "jp-MarkdownHeadingCollapsed": true,
        "tags": [],
        "id": "98fb1a47-7f6c-42f4-9f8d-94d353a18d62"
      },
      "source": [
        "## Visualization of weights distribution"
      ]
    },
    {
      "cell_type": "code",
      "execution_count": 8,
      "id": "62d86d23-a105-4104-93a8-995b48a1c40f",
      "metadata": {
        "tags": [],
        "id": "62d86d23-a105-4104-93a8-995b48a1c40f",
        "colab": {
          "base_uri": "https://localhost:8080/",
          "height": 681
        },
        "outputId": "41bbaf25-58d8-460b-fe8f-781de2f57524"
      },
      "outputs": [
        {
          "output_type": "display_data",
          "data": {
            "text/plain": [
              "<Figure size 1000x500 with 2 Axes>"
            ],
            "image/png": "[encoded data removed]"
          },
          "metadata": {}
        },
        {
          "output_type": "stream",
          "name": "stdout",
          "text": [
            "Conv1 :\n",
            "  mean        :  -0.0016882448690012097\n",
            "  sigma       :  0.20623211562633514\n",
            "  range       :  [-0.4862585663795471, 0.5380329489707947]\n",
            "  3sigma range:  [-0.6203845917480066, 0.6170081020100042]\n",
            "Conv2 :\n",
            "  mean        :  -0.012305649928748608\n",
            "  sigma       :  0.11049314588308334\n",
            "  range       :  [-0.3630130887031555, 0.4504624605178833]\n",
            "  3sigma range:  [-0.34378508757799864, 0.3191737877205014]\n"
          ]
        }
      ],
      "source": [
        "# ADD YOUR CODE HERE to plot distributions of weights\n",
        "\n",
        "# You can get a flattened vector of the weights of fc1 like this:\n",
        "#   fc1_weights = net.fc1.weight.data.cpu().view(-1)\n",
        "\n",
        "import matplotlib.pyplot as plt\n",
        "\n",
        "# Get the flattened vector of weights of conv1 and conv2\n",
        "conv1_weights = net.conv1.weight.data.cpu().view(-1)\n",
        "conv2_weights = net.conv2.weight.data.cpu().view(-1)\n",
        "\n",
        "# Create a figure with two subplots\n",
        "fig, (ax1, ax2) = plt.subplots(1, 2, figsize=(10, 5))\n",
        "\n",
        "# Plot the weights of conv1\n",
        "ax1.hist(conv1_weights, bins=50, color='blue')\n",
        "ax1.set_title('Conv1 Weights')\n",
        "ax1.set_xlabel('Weight Value')\n",
        "ax1.set_ylabel('Frequency')\n",
        "\n",
        "# Plot the weights of conv2\n",
        "ax2.hist(conv2_weights, bins=50, color='red')\n",
        "ax2.set_title('Conv2 Weights')\n",
        "ax2.set_xlabel('Weight Value')\n",
        "ax2.set_ylabel('Frequency')\n",
        "\n",
        "# Adjust the spacing between subplots\n",
        "plt.tight_layout()\n",
        "\n",
        "# Show the plot\n",
        "plt.show()\n",
        "\n",
        "conv1_range = [torch.min(conv1_weights).item(), torch.max(conv1_weights).item()]\n",
        "conv1_sigma = torch.std(conv1_weights).item()\n",
        "conv1_mean = torch.mean(conv1_weights).item()\n",
        "\n",
        "conv1_3sigma_range = [conv1_mean - 3 * conv1_sigma, conv1_mean + 3 * conv1_sigma]\n",
        "\n",
        "conv2_range = [torch.min(conv2_weights).item(), torch.max(conv2_weights).item()]\n",
        "conv2_sigma = torch.std(conv2_weights).item()\n",
        "conv2_mean = torch.mean(conv2_weights).item()\n",
        "\n",
        "conv2_3sigma_range = [conv2_mean - 3 * conv2_sigma, conv2_mean + 3 * conv2_sigma]\n",
        "\n",
        "print('Conv1 :')\n",
        "print('  mean        : ', conv1_mean)\n",
        "print('  sigma       : ', conv1_sigma)\n",
        "print('  range       : ', conv1_range)\n",
        "print('  3sigma range: ', conv1_3sigma_range)\n",
        "\n",
        "\n",
        "print('Conv2 :')\n",
        "print('  mean        : ', conv2_mean)\n",
        "print('  sigma       : ', conv2_sigma)\n",
        "print('  range       : ', conv2_range)\n",
        "print('  3sigma range: ', conv2_3sigma_range)\n",
        "\n",
        "\n"
      ]
    },
    {
      "cell_type": "markdown",
      "id": "2a3b9e7f-ee74-400b-b0ec-1d348e90f796",
      "metadata": {
        "jp-MarkdownHeadingCollapsed": true,
        "tags": [],
        "id": "2a3b9e7f-ee74-400b-b0ec-1d348e90f796"
      },
      "source": [
        "## Post training quantization: Weights"
      ]
    },
    {
      "cell_type": "code",
      "execution_count": 9,
      "id": "2d63852b-80d2-469a-ac00-6330526b8e4d",
      "metadata": {
        "tags": [],
        "id": "2d63852b-80d2-469a-ac00-6330526b8e4d"
      },
      "outputs": [],
      "source": [
        "from copy import deepcopy\n",
        "\n",
        "# A convenience function which we use to copy CNNs\n",
        "def copy_model(model: nn.Module) -> nn.Module:\n",
        "    result = deepcopy(model)\n",
        "    if hasattr(model, 'input_activations'):\n",
        "        result.input_activations = deepcopy(model.input_activations)\n",
        "\n",
        "    for result_layer, original_layer in zip(result.children(), model.children()):\n",
        "        if isinstance(result_layer, nn.Conv2d) or isinstance(result_layer, nn.Linear):\n",
        "            if hasattr(original_layer.weight, 'scale'):\n",
        "                result_layer.weight.scale = deepcopy(original_layer.weight.scale)\n",
        "            if hasattr(original_layer, 'activations'):\n",
        "                result_layer.activations = deepcopy(original_layer.activations)\n",
        "            if hasattr(original_layer, 'output_scale'):\n",
        "                result_layer.output_scale = deepcopy(original_layer.output_scale)\n",
        "\n",
        "    return result"
      ]
    },
    {
      "cell_type": "code",
      "execution_count": 10,
      "id": "9ea6bd80-4d54-472d-ae7e-d5e25928a5e8",
      "metadata": {
        "tags": [],
        "id": "9ea6bd80-4d54-472d-ae7e-d5e25928a5e8"
      },
      "outputs": [],
      "source": [
        "from typing import Tuple\n",
        "\n",
        "def quantized_weights(weights: torch.Tensor, target_range: float = 127.0) -> Tuple[torch.Tensor, float]:\n",
        "    '''\n",
        "    Quantize the weights so that all values are integers between -128 and 127.\n",
        "    You may want to use the total range, 3-sigma range, or some other range when\n",
        "    deciding just what factors to scale the float32 values by.\n",
        "\n",
        "    Parameters:\n",
        "    weights (Tensor): The unquantized weights\n",
        "    target_range (float): The desired range for the quantized values. Default is 127.0.\n",
        "\n",
        "    Returns:\n",
        "    (Tensor, float): A tuple with the following elements:\n",
        "                        * The weights in quantized form, where every value is an integer between -128 and 127.\n",
        "                          The \"dtype\" will still be \"float\", but the values themselves should all be integers.\n",
        "                        * The scaling factor that your weights were multiplied by.\n",
        "                          This value does not need to be an 8-bit integer.\n",
        "    '''\n",
        "\n",
        "    #ADD YOUR CODE HERE\n",
        "    mu = torch.mean(weights)\n",
        "    min = mu -target_range\n",
        "    max = mu + target_range\n",
        "\n",
        "    weights = torch.clamp(weights,min=min,max=max)\n",
        "\n",
        "    scale = 127 / (torch.maximum(torch.abs(min),torch.abs(max)))\n",
        "    weights *= scale\n",
        "    weights = torch.floor(weights)\n",
        "    return weights, scale"
      ]
    },
    {
      "cell_type": "code",
      "execution_count": 11,
      "id": "4466f089-0775-4495-bc2c-0f626ba2250e",
      "metadata": {
        "tags": [],
        "id": "4466f089-0775-4495-bc2c-0f626ba2250e"
      },
      "outputs": [],
      "source": [
        "net_q2 = copy_model(net)"
      ]
    },
    {
      "cell_type": "code",
      "execution_count": 12,
      "id": "24b54c30-a593-4fcc-8de8-1fa6568822e5",
      "metadata": {
        "tags": [],
        "id": "24b54c30-a593-4fcc-8de8-1fa6568822e5"
      },
      "outputs": [],
      "source": [
        "def quantize_layer_weights(model: nn.Module):\n",
        "    for layer in model.children():\n",
        "        if isinstance(layer, nn.Conv2d) or isinstance(layer, nn.Linear):\n",
        "            q_layer_data, scale = quantized_weights(layer.weight.data, 3*net.fc3.weight.data.cpu().view(-1).std())\n",
        "            q_layer_data = q_layer_data.to(device)\n",
        "\n",
        "            layer.weight.data = q_layer_data\n",
        "            layer.weight.scale = scale\n",
        "\n",
        "            if (q_layer_data < -128).any() or (q_layer_data > 127).any():\n",
        "                raise Exception(\"Quantized weights of {} layer include values out of bounds for an 8-bit signed integer\".format(layer.__class__.__name__))\n",
        "            if (q_layer_data != q_layer_data.round()).any():\n",
        "                raise Exception(\"Quantized weights of {} layer include non-integer values\".format(layer.__class__.__name__))\n",
        "\n",
        "quantize_layer_weights(net_q2)"
      ]
    },
    {
      "cell_type": "code",
      "execution_count": 13,
      "id": "85fb2ee7-7f50-4226-b93a-aa9d3f312d89",
      "metadata": {
        "tags": [],
        "id": "85fb2ee7-7f50-4226-b93a-aa9d3f312d89",
        "colab": {
          "base_uri": "https://localhost:8080/"
        },
        "outputId": "323742b8-c41a-4f79-bb99-c1ebd18a0061"
      },
      "outputs": [
        {
          "output_type": "stream",
          "name": "stdout",
          "text": [
            "Accuracy of the network after quantizing all weights: 52.22%\n"
          ]
        }
      ],
      "source": [
        "score = test(net_q2, testloader)\n",
        "print('Accuracy of the network after quantizing all weights: {}%'.format(score))"
      ]
    },
    {
      "cell_type": "code",
      "execution_count": 14,
      "id": "d1a0ee2f",
      "metadata": {
        "id": "d1a0ee2f",
        "colab": {
          "base_uri": "https://localhost:8080/"
        },
        "outputId": "c6a7b2c7-4c6b-4911-ef48-bbaeb04f6728"
      },
      "outputs": [
        {
          "output_type": "stream",
          "name": "stdout",
          "text": [
            "model size: 1976640 / bit | 0.25 / MB\n"
          ]
        }
      ],
      "source": [
        "## Print the size of the model\n",
        "## ADD YOUR CODE HERE\n",
        "\n",
        "model = net_q2\n",
        "size_model = 0\n",
        "for param in model.parameters():\n",
        "    if param.data.is_floating_point():\n",
        "        size_model += param.numel() * torch.finfo(param.data.dtype).bits\n",
        "    else:\n",
        "        size_model += param.numel() * torch.iinfo(param.data.dtype).bits\n",
        "print(f\"model size: {size_model} / bit | {size_model / 8e6:.2f} / MB\")"
      ]
    },
    {
      "cell_type": "markdown",
      "id": "75d69f32-1e68-4ccd-a67e-f2ca25e7b4df",
      "metadata": {
        "jp-MarkdownHeadingCollapsed": true,
        "tags": [],
        "id": "75d69f32-1e68-4ccd-a67e-f2ca25e7b4df"
      },
      "source": [
        "## Quantization activations"
      ]
    },
    {
      "cell_type": "code",
      "execution_count": 15,
      "id": "daf09a6e-e24d-41a3-b3f6-f1a6c831e77b",
      "metadata": {
        "tags": [],
        "id": "daf09a6e-e24d-41a3-b3f6-f1a6c831e77b"
      },
      "outputs": [],
      "source": [
        "def register_activation_profiling_hooks(model: Net):\n",
        "    model.input_activations = np.empty(0)\n",
        "    model.conv1.activations = np.empty(0)\n",
        "    model.conv2.activations = np.empty(0)\n",
        "    model.fc1.activations = np.empty(0)\n",
        "    model.fc2.activations = np.empty(0)\n",
        "    model.fc3.activations = np.empty(0)\n",
        "\n",
        "    model.profile_activations = True\n",
        "\n",
        "    def conv1_activations_hook(layer, x, y):\n",
        "        if model.profile_activations:\n",
        "            model.input_activations = np.append(model.input_activations, x[0].cpu().view(-1))\n",
        "    model.conv1.register_forward_hook(conv1_activations_hook)\n",
        "\n",
        "    def conv2_activations_hook(layer, x, y):\n",
        "        if model.profile_activations:\n",
        "            model.conv1.activations = np.append(model.conv1.activations, x[0].cpu().view(-1))\n",
        "    model.conv2.register_forward_hook(conv2_activations_hook)\n",
        "\n",
        "    def fc1_activations_hook(layer, x, y):\n",
        "        if model.profile_activations:\n",
        "            model.conv2.activations = np.append(model.conv2.activations, x[0].cpu().view(-1))\n",
        "    model.fc1.register_forward_hook(fc1_activations_hook)\n",
        "\n",
        "    def fc2_activations_hook(layer, x, y):\n",
        "        if model.profile_activations:\n",
        "            model.fc1.activations = np.append(model.fc1.activations, x[0].cpu().view(-1))\n",
        "    model.fc2.register_forward_hook(fc2_activations_hook)\n",
        "\n",
        "    def fc3_activations_hook(layer, x, y):\n",
        "        if model.profile_activations:\n",
        "            model.fc2.activations = np.append(model.fc2.activations, x[0].cpu().view(-1))\n",
        "            model.fc3.activations = np.append(model.fc3.activations, y[0].cpu().view(-1))\n",
        "    model.fc3.register_forward_hook(fc3_activations_hook)\n"
      ]
    },
    {
      "cell_type": "code",
      "execution_count": 16,
      "id": "38af1254-c4d3-4015-ba4b-83b333776de7",
      "metadata": {
        "tags": [],
        "id": "38af1254-c4d3-4015-ba4b-83b333776de7"
      },
      "outputs": [],
      "source": [
        "net_q3 = copy_model(net)\n",
        "register_activation_profiling_hooks(net_q3)\n",
        "\n",
        "# Run through the training dataset again while profiling the input and output activations this time\n",
        "# We don't actually have to perform gradient descent for this, so we can use the \"test\" function\n",
        "test(net_q3, trainloader, max_samples=400)\n",
        "net_q3.profile_activations = False"
      ]
    },
    {
      "cell_type": "markdown",
      "id": "0aaf28b1-5deb-4dce-a118-a59154fec6a8",
      "metadata": {
        "jp-MarkdownHeadingCollapsed": true,
        "tags": [],
        "id": "0aaf28b1-5deb-4dce-a118-a59154fec6a8"
      },
      "source": [
        "### Visualize activation distribution"
      ]
    },
    {
      "cell_type": "code",
      "execution_count": 20,
      "id": "acc85f64-c27c-41f6-8449-80f4120f84ee",
      "metadata": {
        "tags": [],
        "id": "acc85f64-c27c-41f6-8449-80f4120f84ee",
        "colab": {
          "base_uri": "https://localhost:8080/",
          "height": 767
        },
        "outputId": "28ee58a2-e741-4553-febd-31f3e2eb0029"
      },
      "outputs": [
        {
          "output_type": "display_data",
          "data": {
            "text/plain": [
              "<Figure size 1500x500 with 3 Axes>"
            ],
            "image/png": "[encoded data removed]"
          },
          "metadata": {}
        },
        {
          "output_type": "stream",
          "name": "stdout",
          "text": [
            "Input :\n",
            "  mean        :  -0.058839406750146483\n",
            "  sigma       :  0.503377404145554\n",
            "  range       :  [-1.0, 1.0]\n",
            "  3sigma range:  [-2.6483152430395, 3.9234441787081042]\n",
            "Conv1 :\n",
            "  mean        :  0.5890977563168389\n",
            "  sigma       :  0.8505761775761336\n",
            "  range       :  [0.0, 9.61680793762207]\n",
            "  3sigma range:  [-1.9626307764115618, 3.14082628904524]\n",
            "Conv2 :\n",
            "  mean        :  0.6375644678343021\n",
            "  sigma       :  1.095293236957934\n",
            "  range       :  [0.0, 14.107772827148438]\n",
            "  3sigma range:  [-2.6483152430395, 3.9234441787081042]\n"
          ]
        }
      ],
      "source": [
        "# ADD YOUR CODE HERE: to plot activation distribution\n",
        "# You can access the activation matrice like this:\n",
        "# net_q3.input_activations\n",
        "# net_q3.conv1_activations\n",
        "# ....\n",
        "\n",
        "# Create a figure with three subplots\n",
        "fig, (ax1, ax2, ax3) = plt.subplots(1, 3, figsize=(15, 5))\n",
        "\n",
        "# Plot the input activations\n",
        "ax1.hist(net_q3.input_activations, bins=50, color='blue')\n",
        "ax1.set_title('Input Activations')\n",
        "ax1.set_xlabel('Activation Value')\n",
        "ax1.set_ylabel('Frequency')\n",
        "\n",
        "# Plot the activations of conv1\n",
        "ax2.hist(net_q3.conv1.activations, bins=50, color='red')\n",
        "ax2.set_title('Conv1 Activations')\n",
        "ax2.set_xlabel('Activation Value')\n",
        "ax2.set_ylabel('Frequency')\n",
        "\n",
        "# Plot the activations of conv2\n",
        "ax3.hist(net_q3.conv2.activations, bins=50, color='green')\n",
        "ax3.set_title('Conv2 Activations')\n",
        "ax3.set_xlabel('Activation Value')\n",
        "ax3.set_ylabel('Frequency')\n",
        "\n",
        "# Adjust the spacing between subplots\n",
        "plt.tight_layout()\n",
        "\n",
        "# Show the plot\n",
        "plt.show()\n",
        "\n",
        "\n",
        "if isinstance(net_q3.input_activations,np.ndarray):\n",
        "  input_activations = torch.from_numpy(net_q3.input_activations)\n",
        "\n",
        "if isinstance(net_q3.conv1.activations,np.ndarray):\n",
        "  conv1_activations = torch.from_numpy(net_q3.conv1.activations)\n",
        "\n",
        "if isinstance(net_q3.conv2.activations,np.ndarray):\n",
        "  conv2_activations = torch.from_numpy(net_q3.conv2.activations)\n",
        "\n",
        "nq3_input_range = [torch.min(input_activations).item(), torch.max(input_activations).item()]\n",
        "nq3_input_sigma = torch.std(input_activations).item()\n",
        "nq3_input_mean = torch.mean(input_activations).item()\n",
        "\n",
        "nq3_conv2_3sigma_range = [nq3_input_mean - 3 * nq3_input_sigma, nq3_input_mean + 3 * nq3_input_sigma]\n",
        "\n",
        "nq3_conv1_range = [torch.min(conv1_activations).item(), torch.max(conv1_activations).item()]\n",
        "nq3_conv1_sigma = torch.std(conv1_activations).item()\n",
        "nq3_conv1_mean = torch.mean(conv1_activations).item()\n",
        "\n",
        "nq3_conv1_3sigma_range = [nq3_conv1_mean - 3 * nq3_conv1_sigma, nq3_conv1_mean + 3 * nq3_conv1_sigma]\n",
        "\n",
        "nq3_conv2_range = [torch.min(conv2_activations).item(), torch.max(conv2_activations).item()]\n",
        "nq3_conv2_sigma = torch.std(conv2_activations).item()\n",
        "nq3_conv2_mean = torch.mean(conv2_activations).item()\n",
        "\n",
        "nq3_conv2_3sigma_range = [nq3_conv2_mean - 3 * nq3_conv2_sigma, nq3_conv2_mean + 3 * nq3_conv2_sigma]\n",
        "\n",
        "print('Input :')\n",
        "print('  mean        : ', nq3_input_mean)\n",
        "print('  sigma       : ', nq3_input_sigma)\n",
        "print('  range       : ', nq3_input_range)\n",
        "print('  3sigma range: ', nq3_conv2_3sigma_range)\n",
        "\n",
        "\n",
        "print('Conv1 :')\n",
        "print('  mean        : ', nq3_conv1_mean)\n",
        "print('  sigma       : ', nq3_conv1_sigma)\n",
        "print('  range       : ', nq3_conv1_range)\n",
        "print('  3sigma range: ', nq3_conv1_3sigma_range)\n",
        "\n",
        "\n",
        "print('Conv2 :')\n",
        "print('  mean        : ', nq3_conv2_mean)\n",
        "print('  sigma       : ', nq3_conv2_sigma)\n",
        "print('  range       : ', nq3_conv2_range)\n",
        "print('  3sigma range: ', nq3_conv2_3sigma_range)"
      ]
    },
    {
      "cell_type": "markdown",
      "id": "b07aebf0-0287-4ef0-b86a-b4a24579d23b",
      "metadata": {
        "jp-MarkdownHeadingCollapsed": true,
        "tags": [],
        "id": "b07aebf0-0287-4ef0-b86a-b4a24579d23b"
      },
      "source": [
        "### Quantize activations"
      ]
    },
    {
      "cell_type": "code",
      "execution_count": 21,
      "id": "e69e1d4d-206d-424c-8d47-9961410d168f",
      "metadata": {
        "tags": [],
        "id": "e69e1d4d-206d-424c-8d47-9961410d168f"
      },
      "outputs": [],
      "source": [
        "from typing import List\n",
        "\n",
        "class NetQuantized(nn.Module):\n",
        "    def __init__(self, net_with_weights_quantized: nn.Module):\n",
        "        super(NetQuantized, self).__init__()\n",
        "\n",
        "        net_init = copy_model(net_with_weights_quantized)\n",
        "\n",
        "        self.conv1 = net_init.conv1\n",
        "        self.pool = net_init.pool\n",
        "        self.conv2 = net_init.conv2\n",
        "        self.fc1 = net_init.fc1\n",
        "        self.fc2 = net_init.fc2\n",
        "        self.fc3 = net_init.fc3\n",
        "\n",
        "        for layer in self.conv1, self.conv2, self.fc1, self.fc2, self.fc3:\n",
        "            def pre_hook(l, x):\n",
        "                x = x[0]\n",
        "                if (x < -128).any() or (x > 127).any():\n",
        "                    raise Exception(\"Input to {} layer is out of bounds for an 8-bit signed integer\".format(l.__class__.__name__))\n",
        "                if (x != x.round()).any():\n",
        "                    raise Exception(\"Input to {} layer has non-integer values\".format(l.__class__.__name__))\n",
        "\n",
        "            layer.register_forward_pre_hook(pre_hook)\n",
        "\n",
        "        # Calculate the scaling factor for the initial input to the CNN\n",
        "        self.input_activations = net_with_weights_quantized.input_activations\n",
        "        self.input_scale = NetQuantized.quantize_initial_input(self.input_activations)\n",
        "\n",
        "        # Calculate the output scaling factors for all the layers of the CNN\n",
        "        preceding_layer_scales = []\n",
        "        for layer in self.conv1, self.conv2, self.fc1, self.fc2, self.fc3:\n",
        "            layer.output_scale = NetQuantized.quantize_activations(layer.activations, layer.weight.scale, self.input_scale, preceding_layer_scales)\n",
        "            preceding_layer_scales.append((layer.weight.scale, layer.output_scale))\n",
        "\n",
        "    @staticmethod\n",
        "    def quantize_initial_input(initial_input: np.ndarray) -> float:\n",
        "        '''\n",
        "        Calculate a scaling factor for the images that are input to the first layer of the CNN.\n",
        "\n",
        "        Parameters:\n",
        "        initial_input (ndarray): The values of all the pixels which were part of the input image during training\n",
        "\n",
        "        Returns:\n",
        "        float: A scaling factor that the input should be multiplied by before being fed into the first layer.\n",
        "               This value does not need to be an 8-bit integer.\n",
        "        '''\n",
        "\n",
        "        # ADD your code here\n",
        "        if isinstance(initial_input,np.ndarray):\n",
        "          initial_input = torch.from_numpy(initial_input)\n",
        "        min = torch.min(initial_input)\n",
        "        max = torch.max(initial_input)\n",
        "        scale = 127. / torch.max(torch.abs(max),torch.abs(min))\n",
        "\n",
        "        return scale\n",
        "\n",
        "    @staticmethod\n",
        "    def quantize_activations(activations: np.ndarray, s_w: float, s_initial_input: float, ns: List[Tuple[float, float]]) -> float:\n",
        "        '''\n",
        "        Calculate a scaling factor to multiply the output of a layer by.\n",
        "\n",
        "        Parameters:\n",
        "        activations (ndarray): The values of all the pixels which have been output by this layer during training\n",
        "        s_w (float): The scale by which the weights of this layer were multiplied as part of the \"quantize_weights\" function you wrote earlier\n",
        "        s_initial_input (float): The scale by which the initial input to the neural network was multiplied\n",
        "        ns ([(float, float)]): A list of tuples, where each tuple represents the \"weight scale\" and \"output scale\" (in that order) for every preceding layer\n",
        "\n",
        "        Returns:\n",
        "        float: A scaling factor that the layer output should be multiplied by before being fed into the next layer.\n",
        "               This value does not need to be an 8-bit integer.\n",
        "        '''\n",
        "        # ADD YOUR CODE HERE\n",
        "        if isinstance(activations,np.ndarray):\n",
        "          activations = torch.from_numpy(activations)\n",
        "        min = torch.min(activations)\n",
        "        max = torch.max(activations)\n",
        "        scale = 127. / torch.max(torch.abs(max),torch.abs(min))\n",
        "\n",
        "        inv_scale = s_w * s_initial_input\n",
        "\n",
        "        for prevous_sw,previous_so in ns:\n",
        "          inv_scale *= prevous_sw * previous_so\n",
        "\n",
        "        return scale / inv_scale\n",
        "\n",
        "    def forward(self, x: torch.Tensor) -> torch.Tensor:\n",
        "\n",
        "        # You can access the output activation scales like this:\n",
        "        #   fc1_output_scale = self.fc1.output_scale\n",
        "        # You don't need to quantize Relu outputs\n",
        "\n",
        "        # ADD YOUR CODE HERE (Replace the ...)\n",
        "        x *= self.input_scale\n",
        "        x = torch.floor(x)\n",
        "\n",
        "        x = self.conv1(x)\n",
        "        x *= self.conv1.output_scale\n",
        "        x = torch.floor(x)\n",
        "        x = self.pool(F.relu(x))\n",
        "        x = torch.clamp(x, min=-128, max=127)\n",
        "\n",
        "        x = self.conv2(x)\n",
        "        x *= self.conv2.output_scale\n",
        "        x = torch.floor(x)\n",
        "\n",
        "        x = self.pool(F.relu(x))\n",
        "        x = torch.clamp(x, min=-128, max=127)\n",
        "        x = x.view(-1, 16 * 5 * 5)\n",
        "\n",
        "        x = self.fc1(x)\n",
        "        x *= self.fc1.output_scale\n",
        "        x = torch.floor(x)\n",
        "        x = F.relu(x)\n",
        "        x = torch.clamp(x, min=-128, max=127)\n",
        "\n",
        "        x = self.fc2(x)\n",
        "        x *= self.fc2.output_scale\n",
        "        x = torch.floor(x)\n",
        "        x = F.relu(x)\n",
        "        x = torch.clamp(x, min=-128, max=127)\n",
        "\n",
        "        x = self.fc3(x)\n",
        "        x *= self.fc3.output_scale\n",
        "        # ...\n",
        "\n",
        "        return x"
      ]
    },
    {
      "cell_type": "code",
      "execution_count": 22,
      "id": "65fbe535-797c-402d-a0a3-11e7d6c3408c",
      "metadata": {
        "tags": [],
        "id": "65fbe535-797c-402d-a0a3-11e7d6c3408c"
      },
      "outputs": [],
      "source": [
        "# Merge the information from net_q2 and net_q3 together\n",
        "\n",
        "net_init = copy_model(net_q2)\n",
        "net_init.input_activations = deepcopy(net_q3.input_activations)\n",
        "for layer_init, layer_q3 in zip(net_init.children(), net_q3.children()):\n",
        "    if isinstance(layer_init, nn.Conv2d) or isinstance(layer_init, nn.Linear):\n",
        "        layer_init.activations = deepcopy(layer_q3.activations)\n",
        "\n",
        "net_quantized = NetQuantized(net_init)"
      ]
    },
    {
      "cell_type": "code",
      "execution_count": 23,
      "id": "c722eb2d-bb2e-44d6-bbd0-b6bbd0db9329",
      "metadata": {
        "tags": [],
        "id": "c722eb2d-bb2e-44d6-bbd0-b6bbd0db9329",
        "colab": {
          "base_uri": "https://localhost:8080/"
        },
        "outputId": "28a14e57-5946-4a0d-f3d0-159db033c2db"
      },
      "outputs": [
        {
          "output_type": "stream",
          "name": "stderr",
          "text": [
            "/usr/lib/python3.10/multiprocessing/popen_fork.py:66: RuntimeWarning: os.fork() was called. os.fork() is incompatible with multithreaded code, and JAX is multithreaded, so this will likely lead to a deadlock.\n",
            "  self.pid = os.fork()\n",
            "/usr/lib/python3.10/multiprocessing/popen_fork.py:66: RuntimeWarning: os.fork() was called. os.fork() is incompatible with multithreaded code, and JAX is multithreaded, so this will likely lead to a deadlock.\n",
            "  self.pid = os.fork()\n"
          ]
        },
        {
          "output_type": "stream",
          "name": "stdout",
          "text": [
            "Accuracy of the network after quantizing both weights and activations: 52.18%\n"
          ]
        }
      ],
      "source": [
        "score = test(net_quantized, testloader)\n",
        "print('Accuracy of the network after quantizing both weights and activations: {}%'.format(score))"
      ]
    }
  ],
  "metadata": {
    "kernelspec": {
      "display_name": "Python 3 (ipykernel)",
      "language": "python",
      "name": "python3"
    },
    "language_info": {
      "codemirror_mode": {
        "name": "ipython",
        "version": 3
      },
      "file_extension": ".py",
      "mimetype": "text/x-python",
      "name": "python",
      "nbconvert_exporter": "python",
      "pygments_lexer": "ipython3",
      "version": "3.8.16"
    },
    "colab": {
      "provenance": []
    }
  },
  "nbformat": 4,
  "nbformat_minor": 5
}